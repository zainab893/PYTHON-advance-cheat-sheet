{
  "metadata": {
    "kernelspec": {
      "name": "python",
      "display_name": "Python (Pyodide)",
      "language": "python"
    },
    "language_info": {
      "codemirror_mode": {
        "name": "python",
        "version": 3
      },
      "file_extension": ".py",
      "mimetype": "text/x-python",
      "name": "python",
      "nbconvert_exporter": "python",
      "pygments_lexer": "ipython3",
      "version": "3.8"
    }
  },
  "nbformat_minor": 5,
  "nbformat": 4,
  "cells": [
    {
      "id": "1ffce9b1-cd71-4f49-a090-d675d2930600",
      "cell_type": "code",
      "source": "# Python Advance Cheat Sheet",
      "metadata": {
        "trusted": true
      },
      "outputs": [],
      "execution_count": null
    },
    {
      "id": "c810bcfd-b997-4bee-9d3c-0c857a05b11d",
      "cell_type": "code",
      "source": "# OOP (Object Oriented Programming)",
      "metadata": {
        "trusted": true
      },
      "outputs": [],
      "execution_count": 1
    },
    {
      "id": "36585d15-08fb-44a7-849a-f1558bca1318",
      "cell_type": "code",
      "source": "# CLASSES AND OBJECTS\n# CLasses are the blueprints or templates which involves Attributes(properties/features), Methods and then Objects \n# Attributes are the variables or data that belongs to the object created from the class\n# Methods are actions or behaviours that an object can perform",
      "metadata": {
        "trusted": true
      },
      "outputs": [],
      "execution_count": null
    },
    {
      "id": "7cca4427-ddc4-4374-b2f6-13d640f99907",
      "cell_type": "code",
      "source": "# Example 1 (About animals we take dog,cat,crocodile)\nclass Animal:                                    # Animal is a class\n    def __init__(self,name,typ,sound):           # method init (init is also a constructor) The (self) keyword refers to the current object of the class,\n                                                 # it allows the object to access its own data and methods.\n        self.name = name                         # atrributes\n        self.typ = typ\n        self.sound = sound\nAnimal1 = Animal(\"Dog\",\"Mammal\",\"Woof\")          # Objects (Animal1,Animal2,Animal3)\nAnimal2 = Animal(\"Cat\",\"Mammal\",\"Meow\")\nAnimal3 = Animal(\"Crocodile\",\"Reptile\",\"grunt and growl\")\n\nprint(Animal1)\nprint(Animal1.typ)\nprint(Animal2.name)\nprint(Animal3.sound)",
      "metadata": {
        "trusted": true
      },
      "outputs": [
        {
          "name": "stdout",
          "output_type": "stream",
          "text": "<__main__.Animal object at 0x2992a80>\nMammal\nCat\ngrunt and growl\n"
        }
      ],
      "execution_count": 25
    },
    {
      "id": "2b08a7c9-092e-4425-9518-09ac7d369efe",
      "cell_type": "code",
      "source": "# Example 2 (about makeup we take foundation)\nclass Makeup:\n    def __init__(self,brand,shade,skin_shade):\n        self.brand = brand\n        self.shade = shade\n        self.skin_shade = skin_shade\nfoundation1 = Makeup(\"MissRose\",\"Ivory 6\",\"Pink undertone\")\nfoundation2 = Makeup(\"MusarratMisbah\",\"Natural warmth\",\"medium brown\")\nfoundation3 = Makeup(\"Huda beauty\",\"Fauxfilter\",\"fair undertone\")\nprint(foundation1.brand)\nprint(foundation3.skin_shade)\nprint(foundation2.shade)",
      "metadata": {
        "trusted": true
      },
      "outputs": [
        {
          "name": "stdout",
          "output_type": "stream",
          "text": "MissRose\nfair undertone\nNatural warmth\n"
        }
      ],
      "execution_count": 23
    },
    {
      "id": "22b0c9f4-9e9e-4011-93fc-3e2be75232c1",
      "cell_type": "code",
      "source": "class Animal:\n    def __init__(self,name,sound):\n        self.name = name\n        self.sound = sound\n    def Animal_sound(self):                   # we have made a custom method called (Animal_sound)\n        print(f'{self.name} has a sound of {self.sound}')\nAnimal1 = Animal(\"Dog\",\"woof\")\nAnimal2 = Animal(\"Cat\",\"meow\")\nprint(Animal1.sound)\nprint(Animal2.sound)\nAnimal2.Animal_sound()\nAnimal1.Animal_sound()",
      "metadata": {
        "trusted": true
      },
      "outputs": [
        {
          "name": "stdout",
          "output_type": "stream",
          "text": "woof\nmeow\nCat has a sound of meow\nDog has a sound of woof\n"
        }
      ],
      "execution_count": 19
    },
    {
      "id": "0e1f91ae-225b-418b-8e86-bf401abcc7a0",
      "cell_type": "code",
      "source": "class Makeup:\n    def __init__(self,brand,shade,skin_shade):\n        self.brand = brand\n        self.shade = shade\n        self.skin_shade = skin_shade\n    def foundation_shade(self):                # custome method (foundation_shade)\n        print(f'This foundation has a shade of {self.shade}')\nfoundation1 = Makeup(\"MissRose\",\"Ivory 6\",\"Pink undertone\")\nfoundation2 = Makeup(\"MusarratMisbah\",\"Natural warmth\",\"medium brown\")\nfoundation3 = Makeup(\"Huda beauty\",\"Fauxfilter\",\"fair undertone\")\nprint(foundation1.brand)\nprint(foundation3.skin_shade)\nprint(foundation2.shade)\nfoundation3.foundation_shade()\nfoundation2.foundation_shade()",
      "metadata": {
        "trusted": true
      },
      "outputs": [
        {
          "name": "stdout",
          "output_type": "stream",
          "text": "MissRose\nfair undertone\nNatural warmth\nThis foundation has a shade of Fauxfilter\nThis foundation has a shade of Natural warmth\n"
        }
      ],
      "execution_count": 21
    },
    {
      "id": "b679bbe9-3bff-48f9-ace2-c15941097254",
      "cell_type": "code",
      "source": "# SUBCLASSES",
      "metadata": {
        "trusted": true
      },
      "outputs": [],
      "execution_count": 32
    },
    {
      "id": "6da0119e-39ed-466e-9947-a267ca1032c0",
      "cell_type": "code",
      "source": "class Vehicle:                            # vehicle is a class\n    def describe(self):                   # method used (describe) here is used to describe that this object is a general vehicle\n        print(\"this is a vehicle\")\n        \nclass Car(Vehicle):                       # subclass of vehicle (Car)\n    def describe(self):\n        print(\"this is a car which is a subclass of vehicle\")\n        \nCar1 = Vehicle()                          # Object (Car1) \nCar1.describe()",
      "metadata": {
        "trusted": true
      },
      "outputs": [
        {
          "name": "stdout",
          "output_type": "stream",
          "text": "this is a vehicle\n"
        }
      ],
      "execution_count": 39
    },
    {
      "id": "431c3f93-0f18-470b-beb4-7becaa9f41be",
      "cell_type": "code",
      "source": "class Vehicle:\n    def describe(self):\n        print(\"this is a vehicle\")\n        \nclass Car(Vehicle):\n    def describe(self):\n        print(\"this is a car which is a subclass of vehicle\")\n        \nCar1 = Car()\nCar1.describe()",
      "metadata": {
        "trusted": true
      },
      "outputs": [
        {
          "name": "stdout",
          "output_type": "stream",
          "text": "this is a car which is a subclass of vehicle\n"
        }
      ],
      "execution_count": 40
    },
    {
      "id": "ad4cf006-1e0a-4057-b7bb-5dc1ac21bd33",
      "cell_type": "code",
      "source": "class Animal:                                       # main class \n    def describe(self):                        \n        print(\"this is a class of an Animal\")\nclass Mammal(Animal):                               # subclass(mammal) of animal class\n    def describe(self):\n        print(\"this is a mammal subclass\")\nclass reptile(Animal):                              # subclass(reptile) of animal class\n    def describe(self):\n        print(\"this is a reptile of subclass\")\nclass bird(Mammal):                                 # subclass(bird) of mammal class\n    def sound(self):\n        print(\"Bird, a subclass of mammal whose sound is tweet\")\nclass dog(Mammal):\n    def sound(self):\n        print(\"Dog, a subclass of mammal whose sound is woof\")\nclass crocodile(reptile):\n    def sound(self):\n        print(\"crocodile, a subclass of reptile whose sound is grunt and growl\")\nclass snake(reptile):\n    def sound(self):\n        print(\"snake, a subclass of reptile whose sound is hiss\")\n\n\nsparrow = bird()\nsparrow.sound()\nbear = Mammal()\nbear.describe()\nanaconda_snake = reptile()\nanaconda_snake.describe()",
      "metadata": {
        "trusted": true
      },
      "outputs": [
        {
          "name": "stdout",
          "output_type": "stream",
          "text": "Bird, a subclass of mammal whose sound is tweet\nthis is a mammal subclass\nthis is a reptile of subclass\n"
        }
      ],
      "execution_count": 49
    },
    {
      "id": "1ac039b0-830f-42ac-9d58-15db2b877db8",
      "cell_type": "code",
      "source": "class Animal:\n    def describe(self):\n        print(\"this is a class of an Animal\")\nclass Mammal(Animal):\n    def describe(self):\n        print(\"this is a mammal subclass\")\nclass reptile(Animal):\n    def describe(self):\n        print(\"this is a reptile of subclass\")\nclass bird(Mammal):\n    def __init__(self,name,sound):\n        self.name = name\n        self.sound = sound\nclass dog(Mammal):\n    def __init__(self,name,sound):\n        self.name = name\n        self.sound = sound\nclass crocodile(reptile):\n    def sound(self):\n        print(\"crocodile, a subclass of reptile whose sound is grunt and growl\")\nclass snake(reptile):\n    def __init__(self,name,sound):\n        self.name = name\n        self.sound = sound\n\n\nbird1 = bird(\"sparrow\",\"tweet\")\nbird1.name\nsnake1 = snake(\"anaconda\",\"hiss\")\nsnake1.sound",
      "metadata": {
        "trusted": true
      },
      "outputs": [
        {
          "execution_count": 66,
          "output_type": "execute_result",
          "data": {
            "text/plain": "'hiss'"
          },
          "metadata": {}
        }
      ],
      "execution_count": 66
    },
    {
      "id": "41f4a657-f44d-4e51-9e6f-4258cc2ed88d",
      "cell_type": "code",
      "source": "# INHERITANCE\n\n#Inheritance is a fundamental concept in object-oriented programming (OOP) that allows one class to inherit attributes and methods from another class.",
      "metadata": {
        "trusted": true
      },
      "outputs": [],
      "execution_count": null
    },
    {
      "id": "739cda5d-0cb7-428f-9ff1-27e9c4caf222",
      "cell_type": "code",
      "source": "class Animal:                                      # Parent class (Animal)\n    def describe(self):\n        print(\"this is a class of an Animal\")\nclass Mammal(Animal):                              # Child class(Mammal) inherits from (Animal) class\n    def describe(self):\n        print(\"this is a mammal subclass\")\nclass Reptile(Animal):                             # Child class(Reptile) inherits from (Animal) class\n    def describe(self):\n        print(\"this is a reptile subclass\")\nmammal = Mammal()\nmammal.describe()\nreptile = Reptile()\nreptile.describe()",
      "metadata": {
        "trusted": true
      },
      "outputs": [
        {
          "name": "stdout",
          "output_type": "stream",
          "text": "this is a mammal subclass\nthis is a reptile subclass\n"
        }
      ],
      "execution_count": 5
    },
    {
      "id": "b752a0c1-c206-419a-abe4-b40be2e207f0",
      "cell_type": "code",
      "source": "class Animal:                                      # Parent class (Animal)\n    def __init__(self,name,sound):\n        self.name = name\n        self.sound = sound\nclass Mammal(Animal):                              # Child class(Mammal) inherits from (Animal) class\n    def __init__(self,name,sound):\n        self.name = name\n        self.sound = sound\nclass Reptile(Animal):                             # Child class(Reptile) inherits from (Animal) class\n    def describe(self):\n        print(\"this is a reptile subclass\")\nmammal = Mammal(\"bear\",\"growl\")\nmammal.sound\nreptile = Reptile()\nreptile.describe()                             # Down below the errors shows that the (reptile) class does not inherits the attributes and methods from \n                                               # the Parent class (Animal)",
      "metadata": {
        "trusted": true
      },
      "outputs": [
        {
          "ename": "<class 'TypeError'>",
          "evalue": "Animal.__init__() missing 2 required positional arguments: 'name' and 'sound'",
          "traceback": [
            "\u001b[0;31m---------------------------------------------------------------------------\u001b[0m",
            "\u001b[0;31mTypeError\u001b[0m                                 Traceback (most recent call last)",
            "Cell \u001b[0;32mIn[23], line 14\u001b[0m\n\u001b[1;32m     12\u001b[0m mammal \u001b[38;5;241m=\u001b[39m Mammal(\u001b[38;5;124m\"\u001b[39m\u001b[38;5;124mbear\u001b[39m\u001b[38;5;124m\"\u001b[39m,\u001b[38;5;124m\"\u001b[39m\u001b[38;5;124mgrowl\u001b[39m\u001b[38;5;124m\"\u001b[39m)\n\u001b[1;32m     13\u001b[0m mammal\u001b[38;5;241m.\u001b[39msound\n\u001b[0;32m---> 14\u001b[0m reptile \u001b[38;5;241m=\u001b[39m \u001b[43mReptile\u001b[49m\u001b[43m(\u001b[49m\u001b[43m)\u001b[49m\n\u001b[1;32m     15\u001b[0m reptile\u001b[38;5;241m.\u001b[39mdescribe()\n",
            "\u001b[0;31mTypeError\u001b[0m: Animal.__init__() missing 2 required positional arguments: 'name' and 'sound'"
          ],
          "output_type": "error"
        }
      ],
      "execution_count": 23
    },
    {
      "id": "67073ae1-88c4-4ce5-8c9c-4cb4c055c85a",
      "cell_type": "code",
      "source": "class Animal:                                     \n    def __init__(self,name,sound):\n        self.name = name\n        self.sound = sound\nclass Mammal(Animal):                              \n    def __init__(self,name,sound):\n        self.name = name\n        self.sound = sound\nclass Reptile(Animal):   \n    def __init__(self,name,sound):\n        self.name = name\n        self.sound = sound\nmammal = Mammal(\"bear\",\"growl\")\nmammal.sound\nreptile = Reptile(\"snake\",\"hiss\")\nreptile.name                           \n                     ",
      "metadata": {
        "trusted": true
      },
      "outputs": [
        {
          "execution_count": 25,
          "output_type": "execute_result",
          "data": {
            "text/plain": "'snake'"
          },
          "metadata": {}
        }
      ],
      "execution_count": 25
    },
    {
      "id": "549604c0-45b9-4d34-9c97-12322bf10f9c",
      "cell_type": "code",
      "source": "class Animal:\n    def move(self):\n        print(\"The animal moves\")\nclass Fish(Animal):\n    def move(self):\n        print(\"fish swims\")\nclass bird(Animal):\n    def move(self):\n        print(\"bird flies\")\nanimal = Animal()\nanimal.move()\nfish = Fish()\nfish.move()\n",
      "metadata": {
        "trusted": true
      },
      "outputs": [
        {
          "name": "stdout",
          "output_type": "stream",
          "text": "The animal moves\nfish swims\n"
        }
      ],
      "execution_count": 19
    },
    {
      "id": "a21d5bee-6709-4a28-bce8-324e4e6923ba",
      "cell_type": "code",
      "source": "# POLYMORPHISM",
      "metadata": {
        "trusted": true
      },
      "outputs": [],
      "execution_count": 8
    },
    {
      "id": "256cd09a-ce59-4f33-a899-f31f2de1602e",
      "cell_type": "code",
      "source": "# Polymorphism is a fundamental concept in object-oriented programming (OOP) that allows objects of different classes to be treated \n# as objects of a common superclass while exhibiting different behaviors.",
      "metadata": {
        "trusted": true
      },
      "outputs": [],
      "execution_count": null
    },
    {
      "id": "9992d286-aa26-4e80-a86a-90570db3e9b9",
      "cell_type": "code",
      "source": "class Animal:\n    def speaks(self):\n        print(\"Animals communicate\")\nclass Dog(Animal):\n    def speaks(self):\n        print(\"Dog barks\")\nclass Cat(Animal):\n    def speaks(self):\n        print(\"cat meows\")\nanimals = [Dog(),Cat()]\nfor animal in animals:\n    animal.speaks()",
      "metadata": {
        "trusted": true
      },
      "outputs": [
        {
          "name": "stdout",
          "output_type": "stream",
          "text": "Dog barks\ncat meows\n"
        }
      ],
      "execution_count": 57
    },
    {
      "id": "ac3d1ea9-f1ed-49ee-9984-3b30b281843b",
      "cell_type": "code",
      "source": "# ENCAPSULATION\n\n# Encapsulation is like putting your data in a protective bubble where:\n# Data (variables) is kept private (hidden inside the class)\n# Methods (functions) are used to control access to that data",
      "metadata": {
        "trusted": true
      },
      "outputs": [],
      "execution_count": 42
    },
    {
      "id": "dfc4e9f8-0be1-41c0-9eb3-32c514b070a9",
      "cell_type": "code",
      "source": "class piggybank:\n    def __init__(self):\n        self.__coins = 0\n    def add_coins(self):\n        self.__coins +=1\n    def count_coins(self):\n        return self.__coins\nmy_bank = piggybank()\n\nmy_bank.add_coins()\nmy_bank.add_coins()\nprint(f'I have {my_bank.count_coins()} coin' )",
      "metadata": {
        "trusted": true
      },
      "outputs": [
        {
          "name": "stdout",
          "output_type": "stream",
          "text": "I have 2 coin\n"
        }
      ],
      "execution_count": 79
    },
    {
      "id": "dc095ed2-ccde-408d-b532-2e831783bda0",
      "cell_type": "code",
      "source": "# DERIVE AND BASE CLASS",
      "metadata": {
        "trusted": true
      },
      "outputs": [],
      "execution_count": 67
    },
    {
      "id": "bdfa2a10-8f49-4ee6-b5dc-90219acb912b",
      "cell_type": "code",
      "source": "# Base Class (Parent Class)\n# The base class is the original class that provides common features to other classes.\n\n# Derived Class (Child Class)\n# The derived class inherits from the base class and can add new features or modify existing ones.",
      "metadata": {
        "trusted": true
      },
      "outputs": [],
      "execution_count": null
    },
    {
      "id": "6ae5c020-2f7d-4cf1-b8cf-1bff7756090a",
      "cell_type": "code",
      "source": "# Base class(Parent)\nclass Animal:\n    def speak(self):\n        print(\"Animal makes sound\")\n# Derive class(Child)\nclass Cat(Animal):\n    def meow(Animal):\n        print(\"cat meows\")\nanimal = Animal().speak()\nCat().speak()\ncat = Cat().meow()",
      "metadata": {
        "trusted": true
      },
      "outputs": [
        {
          "name": "stdout",
          "output_type": "stream",
          "text": "Animal makes sound\nAnimal makes sound\ncat meows\n"
        }
      ],
      "execution_count": 65
    },
    {
      "id": "b24bfb62-7798-4f5a-9e09-6cee574e5b9a",
      "cell_type": "code",
      "source": "",
      "metadata": {
        "trusted": true
      },
      "outputs": [],
      "execution_count": null
    }
  ]
}